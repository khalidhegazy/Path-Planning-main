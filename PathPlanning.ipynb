{
 "cells": [
  {
   "cell_type": "code",
   "execution_count": 1,
   "id": "3efad6d6",
   "metadata": {
    "executionInfo": {
     "elapsed": 300,
     "status": "ok",
     "timestamp": 1639937262813,
     "user": {
      "displayName": "Ahmed Shafiq",
      "photoUrl": "https://lh3.googleusercontent.com/a-/AOh14Gh6LkFyYazmsAfGM024-MBjZsFXVxLTqSrJNwXT=s64",
      "userId": "09633249919719172944"
     },
     "user_tz": -120
    },
    "id": "3efad6d6"
   },
   "outputs": [],
   "source": [
    "#importing libraries\n",
    "import matplotlib as pl\n",
    "from matplotlib import pyplot as plt\n",
    "import numpy as np"
   ]
  },
  {
   "cell_type": "code",
   "execution_count": 2,
   "id": "cd428ce2",
   "metadata": {
    "executionInfo": {
     "elapsed": 2,
     "status": "ok",
     "timestamp": 1639937263209,
     "user": {
      "displayName": "Ahmed Shafiq",
      "photoUrl": "https://lh3.googleusercontent.com/a-/AOh14Gh6LkFyYazmsAfGM024-MBjZsFXVxLTqSrJNwXT=s64",
      "userId": "09633249919719172944"
     },
     "user_tz": -120
    },
    "id": "cd428ce2"
   },
   "outputs": [],
   "source": [
    "class Node:\n",
    "    def __init__(self, parent=None, position=None):\n",
    "        self.parent = parent\n",
    "        self.position = position\n",
    "        self.g = 0\n",
    "        self.h = 0\n",
    "        self.f = 0\n",
    "        \n",
    "    def __eq__(self, other):\n",
    "        return self.position == other.position\n",
    "\n",
    "def return_path(current_node,maze):\n",
    "    path = []\n",
    "    no_rows, no_columns = np.shape(maze)\n",
    "    result = maze\n",
    "    current = current_node\n",
    "    while current is not None:\n",
    "        path.append(current.position)\n",
    "        current = current.parent\n",
    "    path = path[::-1]\n",
    "    for i in range(len(path)):\n",
    "        result[path[i][0]][path[i][1]] = 2\n",
    "    return result\n",
    "\n",
    "\n",
    "def search(maze, cost, start, end):\n",
    "    start_node = Node(None, tuple(start))\n",
    "    end_node = Node(None, tuple(end))\n",
    "    \n",
    "    open_list = []  \n",
    "    closed_list = [] \n",
    "    \n",
    "    open_list.append(start_node)\n",
    "    \n",
    "    outer_iterations = 0\n",
    "    max_iterations = (len(maze) // 2) ** 10\n",
    "\n",
    "    move  =   [[-1, 0 ], # go up\n",
    "              [ 0, -1], # go left\n",
    "              [ 1, 0 ], # go down\n",
    "              [ 0, 1 ]] # go right\n",
    "\n",
    "    no_rows, no_columns = np.shape(maze)\n",
    "    \n",
    "    while len(open_list) > 0:\n",
    "        \n",
    "        outer_iterations += 1    \n",
    "        current_node = open_list[0]\n",
    "        current_index = 0\n",
    "        for index, item in enumerate(open_list):\n",
    "            if item.f < current_node.f:\n",
    "                current_node = item\n",
    "                current_index = index\n",
    "        # stop condition       \n",
    "        if outer_iterations > max_iterations:\n",
    "            print (\"giving up on pathfinding too many iterations\")\n",
    "            return return_path(current_node,maze)\n",
    "\n",
    "        open_list.pop(current_index)\n",
    "        closed_list.append(current_node)\n",
    "        \n",
    "        if current_node == end_node:\n",
    "            return return_path(current_node,maze)\n",
    "\n",
    "        children = []\n",
    "        for new_position in move: \n",
    "\n",
    "            node_position = (current_node.position[0] + new_position[0], current_node.position[1] + new_position[1])\n",
    "            #make sure within range of the maze\n",
    "            if (node_position[0] > (no_rows - 1) or \n",
    "                node_position[0] < 0 or \n",
    "                node_position[1] > (no_columns -1) or \n",
    "                node_position[1] < 0):\n",
    "                continue\n",
    "\n",
    "            #make sure the node is walkable\n",
    "            if maze[node_position[0]][node_position[1]] != 0:\n",
    "                continue\n",
    "            new_node = Node(current_node, node_position)\n",
    "            children.append(new_node)\n",
    "\n",
    "        for child in children:\n",
    "            if len([closed_child for closed_child in closed_list if closed_child == child]) > 0:\n",
    "                continue\n",
    "                \n",
    "            child.g = current_node.g + cost\n",
    "            #heuristic using eucledian distance\n",
    "            child.h = (((child.position[0] - end_node.position[0]) ** 2) + \n",
    "                       ((child.position[1] - end_node.position[1]) ** 2)) \n",
    "\n",
    "            child.f = child.g + child.h\n",
    "            \n",
    "            if len([i for i in open_list if child == i and child.g > i.g]) > 0:\n",
    "                continue\n",
    "            \n",
    "            open_list.append(child)"
   ]
  },
  {
   "cell_type": "code",
   "execution_count": 3,
   "id": "f500bb42",
   "metadata": {
    "executionInfo": {
     "elapsed": 3,
     "status": "ok",
     "timestamp": 1639937263210,
     "user": {
      "displayName": "Ahmed Shafiq",
      "photoUrl": "https://lh3.googleusercontent.com/a-/AOh14Gh6LkFyYazmsAfGM024-MBjZsFXVxLTqSrJNwXT=s64",
      "userId": "09633249919719172944"
     },
     "user_tz": -120
    },
    "id": "f500bb42"
   },
   "outputs": [],
   "source": [
    "#initializing the maze \n",
    "maze = np.zeros((100,100))\n",
    "#setting the obstacles in the maze\n",
    "maze[80:,:20]=1\n",
    "maze[:80,40:60]=1\n",
    "maze[60:,70:80]=1"
   ]
  },
  {
   "cell_type": "code",
   "execution_count": 4,
   "id": "5a7e4dd8",
   "metadata": {
    "colab": {
     "base_uri": "https://localhost:8080/"
    },
    "executionInfo": {
     "elapsed": 294,
     "status": "ok",
     "timestamp": 1639937263501,
     "user": {
      "displayName": "Ahmed Shafiq",
      "photoUrl": "https://lh3.googleusercontent.com/a-/AOh14Gh6LkFyYazmsAfGM024-MBjZsFXVxLTqSrJNwXT=s64",
      "userId": "09633249919719172944"
     },
     "user_tz": -120
    },
    "id": "5a7e4dd8",
    "outputId": "e2bd1d13-af4d-4500-d91d-215c04243980",
    "scrolled": true
   },
   "outputs": [
    {
     "name": "stdout",
     "output_type": "stream",
     "text": [
      "[[0. 0. 0. ... 0. 0. 0.]\n",
      " [0. 0. 0. ... 0. 0. 0.]\n",
      " [0. 0. 0. ... 0. 0. 0.]\n",
      " ...\n",
      " [1. 1. 1. ... 0. 0. 0.]\n",
      " [1. 1. 1. ... 0. 0. 0.]\n",
      " [1. 1. 1. ... 0. 0. 0.]]\n"
     ]
    }
   ],
   "source": [
    "print(maze)"
   ]
  },
  {
   "cell_type": "code",
   "execution_count": 5,
   "id": "e7b74568",
   "metadata": {
    "executionInfo": {
     "elapsed": 4,
     "status": "ok",
     "timestamp": 1639937263502,
     "user": {
      "displayName": "Ahmed Shafiq",
      "photoUrl": "https://lh3.googleusercontent.com/a-/AOh14Gh6LkFyYazmsAfGM024-MBjZsFXVxLTqSrJNwXT=s64",
      "userId": "09633249919719172944"
     },
     "user_tz": -120
    },
    "id": "e7b74568"
   },
   "outputs": [],
   "source": [
    "#initializing the start point and goal point\n",
    "start=[1,1]\n",
    "goal=[95,95]\n",
    "cost=10"
   ]
  },
  {
   "cell_type": "code",
   "execution_count": 6,
   "id": "ab42a366",
   "metadata": {
    "colab": {
     "base_uri": "https://localhost:8080/",
     "height": 863
    },
    "executionInfo": {
     "elapsed": 507,
     "status": "ok",
     "timestamp": 1639937264005,
     "user": {
      "displayName": "Ahmed Shafiq",
      "photoUrl": "https://lh3.googleusercontent.com/a-/AOh14Gh6LkFyYazmsAfGM024-MBjZsFXVxLTqSrJNwXT=s64",
      "userId": "09633249919719172944"
     },
     "user_tz": -120
    },
    "id": "ab42a366",
    "outputId": "88e69cac-bec6-40e3-a070-53452bb74999",
    "scrolled": true
   },
   "outputs": [
    {
     "data": {
      "image/png": "[encoded data removed]",
      "text/plain": [
       "<Figure size 1080x1080 with 1 Axes>"
      ]
     },
     "metadata": {
      "needs_background": "light"
     },
     "output_type": "display_data"
    }
   ],
   "source": [
    "cmap = pl.colors.ListedColormap(['white','bisque'])\n",
    "\n",
    "plt.figure(figsize=(15,15))\n",
    "\n",
    "ax = plt.gca()\n",
    "ax.cla()\n",
    "start_circle = plt.Circle((start),1)\n",
    "ax.add_artist(start_circle)\n",
    "goal_circle = plt.Circle((goal),1,color = 'yellow')\n",
    "ax.add_artist(goal_circle)\n",
    "\n",
    "plt.imshow(maze,cmap=cmap,origin='lower')\n",
    "plt.grid(linestyle='--')\n",
    "plt.show()"
   ]
  },
  {
   "cell_type": "code",
   "execution_count": 7,
   "id": "fd36bc2f",
   "metadata": {
    "colab": {
     "base_uri": "https://localhost:8080/"
    },
    "executionInfo": {
     "elapsed": 9655,
     "status": "ok",
     "timestamp": 1639937273656,
     "user": {
      "displayName": "Ahmed Shafiq",
      "photoUrl": "https://lh3.googleusercontent.com/a-/AOh14Gh6LkFyYazmsAfGM024-MBjZsFXVxLTqSrJNwXT=s64",
      "userId": "09633249919719172944"
     },
     "user_tz": -120
    },
    "id": "fd36bc2f",
    "outputId": "76ee0acf-3006-4b17-ac49-8672d75ee2cd"
   },
   "outputs": [
    {
     "name": "stdout",
     "output_type": "stream",
     "text": [
      "[[0. 0. 0. ... 0. 0. 0.]\n",
      " [0. 2. 0. ... 0. 0. 0.]\n",
      " [0. 2. 2. ... 0. 0. 0.]\n",
      " ...\n",
      " [1. 1. 1. ... 0. 0. 0.]\n",
      " [1. 1. 1. ... 0. 0. 0.]\n",
      " [1. 1. 1. ... 0. 0. 0.]]\n"
     ]
    }
   ],
   "source": [
    "path = search(maze,cost,start,goal)\n",
    "\n",
    "print(path)"
   ]
  },
  {
   "cell_type": "code",
   "execution_count": 8,
   "id": "77e26681",
   "metadata": {
    "colab": {
     "base_uri": "https://localhost:8080/",
     "height": 863
    },
    "executionInfo": {
     "elapsed": 553,
     "status": "ok",
     "timestamp": 1639937501694,
     "user": {
      "displayName": "Ahmed Shafiq",
      "photoUrl": "https://lh3.googleusercontent.com/a-/AOh14Gh6LkFyYazmsAfGM024-MBjZsFXVxLTqSrJNwXT=s64",
      "userId": "09633249919719172944"
     },
     "user_tz": -120
    },
    "id": "77e26681",
    "outputId": "08648d1e-e9cf-4404-d6d8-04030b47f5e6",
    "scrolled": true
   },
   "outputs": [
    {
     "data": {
      "image/png": "[encoded data removed]",
      "text/plain": [
       "<Figure size 1080x1080 with 1 Axes>"
      ]
     },
     "metadata": {
      "needs_background": "light"
     },
     "output_type": "display_data"
    }
   ],
   "source": [
    "cmap = pl.colors.ListedColormap(['white','lightcoral','gray'])\n",
    "\n",
    "plt.figure(figsize=(15,15))\n",
    "\n",
    "ax = plt.gca()\n",
    "ax.cla()\n",
    "start_circle = plt.Circle((start),1)\n",
    "ax.add_artist(start_circle)\n",
    "goal_circle = plt.Circle((goal),1,color = 'red')\n",
    "ax.add_artist(goal_circle)\n",
    "\n",
    "plt.imshow(path,cmap=cmap,origin='lower')\n",
    "plt.grid(linestyle='--')\n",
    "plt.show()"
   ]
  }
 ],
 "metadata": {
  "colab": {
   "name": "PathPlanning.ipynb",
   "provenance": []
  },
  "kernelspec": {
   "display_name": "Python 3 (ipykernel)",
   "language": "python",
   "name": "python3"
  },
  "language_info": {
   "codemirror_mode": {
    "name": "ipython",
    "version": 3
   },
   "file_extension": ".py",
   "mimetype": "text/x-python",
   "name": "python",
   "nbconvert_exporter": "python",
   "pygments_lexer": "ipython3",
   "version": "3.9.7"
  }
 },
 "nbformat": 4,
 "nbformat_minor": 5
}
